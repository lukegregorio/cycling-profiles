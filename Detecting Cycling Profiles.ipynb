{
 "cells": [
  {
   "cell_type": "markdown",
   "id": "1a4a38e7-0f2e-4f30-aa3d-b8da03581abe",
   "metadata": {},
   "source": [
    "### Detecting Cycling Profiles "
   ]
  },
  {
   "cell_type": "markdown",
   "id": "6cf3ac15-7d8a-4bb1-b494-c14a7689d591",
   "metadata": {},
   "source": [
    "Idea here is to take stage profiles from PCS. Do it via python."
   ]
  },
  {
   "cell_type": "code",
   "execution_count": 7,
   "id": "6b68dc47-f0f1-4743-9018-b7e5c333897c",
   "metadata": {},
   "outputs": [],
   "source": [
    "from selenium import webdriver\n",
    "import requests\n",
    "import pandas as pd\n",
    "from bs4 import BeautifulSoup"
   ]
  },
  {
   "cell_type": "markdown",
   "id": "9c91f31f-0ed6-4b6d-b9f1-f6969ec9ed8b",
   "metadata": {},
   "source": [
    "BS Refresher"
   ]
  },
  {
   "cell_type": "code",
   "execution_count": 8,
   "id": "0fa6a06e-5a12-4442-ac08-0aea85925b3d",
   "metadata": {},
   "outputs": [],
   "source": [
    "url = 'https://www.procyclingstats.com/race/ronde-van-vlaanderen/2022/result/today/profiles'\n",
    "result = requests.get(url)"
   ]
  },
  {
   "cell_type": "code",
   "execution_count": 9,
   "id": "6f71def6-5d17-4cf0-8658-206df59013a1",
   "metadata": {},
   "outputs": [],
   "source": [
    "if result.status_code == 200:\n",
    "    soup = BeautifulSoup(result.content, \"html.parser\")\n",
    "\n",
    "# then get parsing"
   ]
  },
  {
   "cell_type": "markdown",
   "id": "78409094-756f-47d1-a956-880b3f911e6d",
   "metadata": {},
   "source": [
    "### Using Selenium"
   ]
  },
  {
   "cell_type": "markdown",
   "id": "41d9da28-22ca-4f85-8f87-87cd5d72e91c",
   "metadata": {},
   "source": [
    "Seleium like mimics a user using a web browser."
   ]
  },
  {
   "cell_type": "code",
   "execution_count": 12,
   "id": "18064a20-fced-4b5d-b662-bccabb6c1847",
   "metadata": {},
   "outputs": [
    {
     "name": "stderr",
     "output_type": "stream",
     "text": [
      "C:\\Users\\luke gregorio\\AppData\\Local\\Temp\\ipykernel_9820\\1172402036.py:2: DeprecationWarning: executable_path has been deprecated, please pass in a Service object\n",
      "  wd = webdriver.Chrome(executable_path=DRIVER_PATH)\n"
     ]
    }
   ],
   "source": [
    "DRIVER_PATH = 'chromedriver.exe'\n",
    "wd = webdriver.Chrome(executable_path=DRIVER_PATH)"
   ]
  },
  {
   "cell_type": "code",
   "execution_count": 13,
   "id": "312a24ac-2485-4e8f-a67f-770a87712a00",
   "metadata": {},
   "outputs": [],
   "source": [
    "# open up a web page\n",
    "wd.get('https://google.com')\n",
    "\n",
    "# search for dogs\n",
    "# parse down to find an input\n",
    "search_box = wd.find_element_by_css_selector('input.gLFyf')\n",
    "# make a google search\n",
    "search_box.send_keys('Dogs')\n",
    "\n",
    "# shut down window\n",
    "wd.quit()"
   ]
  },
  {
   "cell_type": "code",
   "execution_count": null,
   "id": "9d0f6e88-646c-4f87-8a84-4e89352fac77",
   "metadata": {},
   "outputs": [],
   "source": []
  },
  {
   "cell_type": "code",
   "execution_count": null,
   "id": "6a5887ec-500a-4944-8b2e-5a282b0fe323",
   "metadata": {},
   "outputs": [],
   "source": []
  }
 ],
 "metadata": {
  "kernelspec": {
   "display_name": "Python 3 (ipykernel)",
   "language": "python",
   "name": "python3"
  },
  "language_info": {
   "codemirror_mode": {
    "name": "ipython",
    "version": 3
   },
   "file_extension": ".py",
   "mimetype": "text/x-python",
   "name": "python",
   "nbconvert_exporter": "python",
   "pygments_lexer": "ipython3",
   "version": "3.10.4"
  }
 },
 "nbformat": 4,
 "nbformat_minor": 5
}
