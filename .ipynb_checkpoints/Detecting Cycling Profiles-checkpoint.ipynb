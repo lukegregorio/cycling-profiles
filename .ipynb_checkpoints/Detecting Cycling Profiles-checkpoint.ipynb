{
 "cells": [
  {
   "cell_type": "markdown",
   "id": "1a4a38e7-0f2e-4f30-aa3d-b8da03581abe",
   "metadata": {},
   "source": [
    "### Detecting From Cycling Profiles"
   ]
  },
  {
   "cell_type": "markdown",
   "id": "6cf3ac15-7d8a-4bb1-b494-c14a7689d591",
   "metadata": {},
   "source": [
    "Idea here is to take stage profiles from PCS. \n",
    "\n",
    "In the last year or so these are pretty standardised. But, they can change in past years so that will be an advanced challenge to solve. \n",
    "\n",
    "I might try to build my own classifier or take some ML approach I dunno. I will learn as I go along, try to find out about different techniques. Probs worth reading other people's work."
   ]
  },
  {
   "cell_type": "code",
   "execution_count": 3,
   "id": "6b68dc47-f0f1-4743-9018-b7e5c333897c",
   "metadata": {},
   "outputs": [
    {
     "name": "stderr",
     "output_type": "stream",
     "text": [
      "C:\\Users\\luke gregorio\\AppData\\Local\\Temp\\ipykernel_11360\\346493017.py:5: DeprecationWarning: executable_path has been deprecated, please pass in a Service object\n",
      "  wd = webdriver.Chrome(PATH)\n"
     ]
    }
   ],
   "source": [
    "from selenium import webdriver\n",
    "\n",
    "PATH = 'chromedriver.exe'\n",
    "\n",
    "wd = webdriver.Chrome(PATH)"
   ]
  },
  {
   "cell_type": "code",
   "execution_count": 4,
   "id": "0fa6a06e-5a12-4442-ac08-0aea85925b3d",
   "metadata": {},
   "outputs": [],
   "source": [
    "img = 'https://www.procyclingstats.com/images/profiles/ap/ba/ronde-van-vlaanderen-2022-result-profile-cbd407fad9.jpg'"
   ]
  },
  {
   "cell_type": "code",
   "execution_count": null,
   "id": "b8074ddd-83e9-4d17-b46a-28010fb52ea0",
   "metadata": {},
   "outputs": [],
   "source": []
  }
 ],
 "metadata": {
  "kernelspec": {
   "display_name": "Python 3 (ipykernel)",
   "language": "python",
   "name": "python3"
  },
  "language_info": {
   "codemirror_mode": {
    "name": "ipython",
    "version": 3
   },
   "file_extension": ".py",
   "mimetype": "text/x-python",
   "name": "python",
   "nbconvert_exporter": "python",
   "pygments_lexer": "ipython3",
   "version": "3.10.4"
  }
 },
 "nbformat": 4,
 "nbformat_minor": 5
}
